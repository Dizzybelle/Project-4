{
 "cells": [
  {
   "cell_type": "code",
   "execution_count": 1,
   "metadata": {},
   "outputs": [],
   "source": [
    "import pandas as pd\n",
    "from pathlib import Path"
   ]
  },
  {
   "cell_type": "code",
   "execution_count": 2,
   "metadata": {},
   "outputs": [],
   "source": [
    "pol_data = Path(\"resources/anes_timeseries_2020_csv_20220210.csv\")"
   ]
  },
  {
   "cell_type": "code",
   "execution_count": 3,
   "metadata": {},
   "outputs": [],
   "source": [
    "vote_df = pd.read_csv(pol_data, low_memory=False)"
   ]
  },
  {
   "cell_type": "code",
   "execution_count": 4,
   "metadata": {},
   "outputs": [],
   "source": [
    "replacement1 = {'-9':'Refused','-8':'Do not know','-4':'error','0':'No Preference','1':'Democrat','3':'Independent','5':'Other','2':'Republican'}\n",
    "vote_df['V201228'] = vote_df['V201228'].map(replacement1).fillna(vote_df['V201228'])"
   ]
  },
  {
   "cell_type": "code",
   "execution_count": 5,
   "metadata": {},
   "outputs": [],
   "source": [
    "replacement2 = {'-8':'Do not know','-7':'no-data','-6':'no interview','-5':'break-off','-1':'N/A','1':'Male','2':'Female'}\n",
    "vote_df['V202637'] = vote_df['V202637'].map(replacement2).fillna(vote_df['V202637'])"
   ]
  },
  {
   "cell_type": "code",
   "execution_count": 6,
   "metadata": {},
   "outputs": [],
   "source": [
    "replacement3 = {'-9':'Refused',\n",
    "'-8':'Do not know',\n",
    "'-7':'No post-election data',\n",
    "'-6':'No post-election interview',\n",
    "'-5':'Interview breakoff',\n",
    "'1':'Rural area',\n",
    "'2':'Small town',\n",
    "'3':'Suburb',\n",
    "'4':'City'}\n",
    "vote_df['V202355'] = vote_df['V202355'].map(replacement3).fillna(vote_df['V202355'])"
   ]
  },
  {
   "cell_type": "code",
   "execution_count": 7,
   "metadata": {},
   "outputs": [],
   "source": [
    "replacement4 = {'-9':'Refused',\n",
    "'-8':'Do not know',\n",
    "'1':'Right direction',\n",
    "'2':'Wrong track'}\n",
    "vote_df['V201114'] = vote_df['V201114'].map(replacement4).fillna(vote_df['V201114'])"
   ]
  },
  {
   "cell_type": "code",
   "execution_count": 8,
   "metadata": {},
   "outputs": [],
   "source": [
    "replacement5 = {'-9': 'Refused',\n",
    "'-8': 'Do not know',\n",
    "'1': 'White, non-Hispanic',\n",
    "'2': 'Black, non-Hispanic',\n",
    "'3': 'Hispanic',\n",
    "'4': 'Asian or Native Hawaiian/other Pacific Islander, non-Hispanic',\n",
    "'5': 'Native American/Alaska Native or other race, non-Hispanic',\n",
    "'6': 'Multiple races, non-Hispanic'}\n",
    "vote_df['V201549x'] = vote_df['V201549x'].map(replacement5).fillna(vote_df['V201549x'])"
   ]
  },
  {
   "cell_type": "code",
   "execution_count": 9,
   "metadata": {},
   "outputs": [],
   "source": [
    "replacement6 = {'-9': 'Refused',\n",
    "'-5': 'Breakoff, sufficient partial IW',\n",
    "'1':'Under $9,999',\n",
    "'2':'$10,000-14,999',\n",
    "'3':'$15,000-19,999',\n",
    "'4.':'$20,000-24,999',\n",
    "'5.':'AssertionError$25,000-29,999',\n",
    "'6.':'$30,000-34,999',\n",
    "'7.':'$35,000-39,999',\n",
    "'8.':'$40,000-44,999',\n",
    "'9.':'$45,000-49,999',\n",
    "'10':'$50,000-59,999',\n",
    "'11':'$60,000-64,999',\n",
    "'12':'$65,000-69,999',\n",
    "'13':'$70,000-74,999',\n",
    "'14':'$75,000-79,999',\n",
    "'15':'$80,000-89,999',\n",
    "'16':'$90,000-99,999',\n",
    "'17':'$100,000-109,999',\n",
    "'18':'$110,000-124,999',\n",
    "'19':'$125,000-149,999',\n",
    "'20':'$150,000-174,999',\n",
    "'21':'$175,000-249,999',\n",
    "'22':'$250,000 or more'}\n",
    "vote_df['V202468x'] = vote_df['V202468x'].map(replacement6).fillna(vote_df['V202468x'])"
   ]
  },
  {
   "cell_type": "code",
   "execution_count": 10,
   "metadata": {},
   "outputs": [],
   "source": [
    "replacement7 = {'-9':'Refused',\n",
    "'-8':'Do not know',\n",
    "'1':'Yes, voted in primary or caucus',\n",
    "'2':'No, didn’t vote in primary or caucus'}\n",
    "vote_df['V201020'] = vote_df['V201020'].map(replacement7).fillna(vote_df['V201020'])"
   ]
  },
  {
   "cell_type": "code",
   "execution_count": 11,
   "metadata": {},
   "outputs": [],
   "source": [
    "replacement8 = {'-9':'Refused',\n",
    "'-8':'Do not know',\n",
    "'1':'Better when one party controls both',\n",
    "'2':'Better when control is split',\n",
    "'3':'It does not matter'}\n",
    "vote_df['V201227'] = vote_df['V201227'].map(replacement8).fillna(vote_df['V201227'])"
   ]
  },
  {
   "cell_type": "code",
   "execution_count": 12,
   "metadata": {},
   "outputs": [],
   "source": [
    "replacement9 = {'-9':'Refused',\n",
    "'-8':'Do not know',\n",
    "'-7':'No post-election data, deleted due to incomplete interview',\n",
    "'-6':'No post-election interview',\n",
    "'-5':'Interview breakoff (sufficient partial IW)',\n",
    "'0':'Strongly dislike',\n",
    "'10':'Strongly like'}\n",
    "vote_df['V202435'] = vote_df['V202435'].map(replacement9).fillna(vote_df['V202435'])"
   ]
  },
  {
   "cell_type": "code",
   "execution_count": 13,
   "metadata": {},
   "outputs": [],
   "source": [
    "replacement10 = {'-9':'Refused',\n",
    "'-8':'Do not know',\n",
    "'-1':'Inapplicable',\n",
    "'1':'Will be close',\n",
    "'2':'Win by quite a bit'}\n",
    "vote_df['V201220'] = vote_df['V201220'].map(replacement10).fillna(vote_df['V201220'])"
   ]
  },
  {
   "cell_type": "code",
   "execution_count": 14,
   "metadata": {},
   "outputs": [],
   "source": [
    "Replacement11 = {'-9':'Refused',\n",
    "'-8':'Do not know',\n",
    "'-1':'Inapplicable',\n",
    "'1':'Barack Obama',\n",
    "'2':'Mitt Romney',\n",
    "'5':'Other'}\n",
    "vote_df['V201105'] = vote_df['V201105'].map(Replacement11).fillna(vote_df['V201105'])"
   ]
  },
  {
   "cell_type": "code",
   "execution_count": 15,
   "metadata": {},
   "outputs": [],
   "source": [
    "Replacement12 = {'-9':'Refused',\n",
    "'-8':'Don’t know',\n",
    "'-7':'No post-election data, deleted due to incomplete interview',\n",
    "'-6':'No post-election interview',\n",
    "'-1':'Inapplicable',\n",
    "'1':'Joe Biden',\n",
    "'2':'Donald Trump',\n",
    "'3':'Jo Jorgensen',\n",
    "'4':'Howie Hawkins',\n",
    "'5':'Other candidate',\n",
    "'7':'Specified as Republican candidate',\n",
    "'8':'Specified as Libertarian candidate',\n",
    "'11':'Specified as do not know',\n",
    "'12':'Specified as refused'}\n",
    "vote_df['V202073'] = vote_df['V202073'].map(Replacement12).fillna(vote_df['V202073'])"
   ]
  },
  {
   "cell_type": "code",
   "execution_count": 16,
   "metadata": {},
   "outputs": [],
   "source": [
    "Replacement13 = {'-9':'Refused',\n",
    "'-8':'Do not know',\n",
    "'1':'Extremely liberal',\n",
    "'2':'Liberal',\n",
    "'3':'Slightly liberal',\n",
    "'4':'Moderate; middle of the road',\n",
    "'5':'Slightly conservative',\n",
    "'6':'Conservative',\n",
    "'7':'Extremely conservative',\n",
    "'99':'Haven’t thought much about this'}\n",
    "vote_df['V201200'] = vote_df['V201200'].map(Replacement13).fillna(vote_df['V201200'])"
   ]
  },
  {
   "cell_type": "code",
   "execution_count": 17,
   "metadata": {},
   "outputs": [],
   "source": [
    "Replacement14 = {'-9':'Refused',\n",
    "'-8':'Do not know',\n",
    "'-7':'No post-election data, deleted due to incomplete interview',\n",
    "'-6':'No post-election interview',\n",
    "'-5':'Interview breakoff (sufficient partial IW)',\n",
    "'0':'Strongly dislike',\n",
    "'10':'Strongly like'}\n",
    "vote_df['V202436'] = vote_df['V202436'].map(Replacement14).fillna(vote_df['V202436'])"
   ]
  },
  {
   "cell_type": "code",
   "execution_count": 18,
   "metadata": {},
   "outputs": [],
   "source": [
    "Replacement15 = {'-9':'Refused',\n",
    "'-8':'Do not know',\n",
    "'-4':'Technical error',\n",
    "'-1':'Inapplicable',\n",
    "'1':'Liberal',\n",
    "'2':'Conservative',\n",
    "'3':'Moderate'}\n",
    "vote_df['V201201'] = vote_df['V201201'].map(Replacement15).fillna(vote_df['V201201'])"
   ]
  },
  {
   "cell_type": "code",
   "execution_count": 19,
   "metadata": {},
   "outputs": [],
   "source": [
    "for_learn = vote_df[['V201228','V201507x','V202637','V202355','V201114','V201549x','V202468x','V201020','V201576','V201220','V201105','V202073','V201200','V201201','V202436','V202435','V201227','V201151','V201152']]"
   ]
  },
  {
   "cell_type": "code",
   "execution_count": 20,
   "metadata": {},
   "outputs": [
    {
     "data": {
      "text/html": [
       "<div>\n",
       "<style scoped>\n",
       "    .dataframe tbody tr th:only-of-type {\n",
       "        vertical-align: middle;\n",
       "    }\n",
       "\n",
       "    .dataframe tbody tr th {\n",
       "        vertical-align: top;\n",
       "    }\n",
       "\n",
       "    .dataframe thead th {\n",
       "        text-align: right;\n",
       "    }\n",
       "</style>\n",
       "<table border=\"1\" class=\"dataframe\">\n",
       "  <thead>\n",
       "    <tr style=\"text-align: right;\">\n",
       "      <th></th>\n",
       "      <th>V201228</th>\n",
       "      <th>V201507x</th>\n",
       "      <th>V202637</th>\n",
       "      <th>V202355</th>\n",
       "      <th>V201114</th>\n",
       "      <th>V201549x</th>\n",
       "      <th>V202468x</th>\n",
       "      <th>V201020</th>\n",
       "      <th>V201576</th>\n",
       "      <th>V201220</th>\n",
       "      <th>V201105</th>\n",
       "      <th>V202073</th>\n",
       "      <th>V201200</th>\n",
       "      <th>V201201</th>\n",
       "      <th>V202436</th>\n",
       "      <th>V202435</th>\n",
       "      <th>V201227</th>\n",
       "      <th>V201151</th>\n",
       "      <th>V201152</th>\n",
       "    </tr>\n",
       "  </thead>\n",
       "  <tbody>\n",
       "    <tr>\n",
       "      <th>0</th>\n",
       "      <td>2</td>\n",
       "      <td>46</td>\n",
       "      <td>-1</td>\n",
       "      <td>4</td>\n",
       "      <td>1</td>\n",
       "      <td>3</td>\n",
       "      <td>21</td>\n",
       "      <td>1</td>\n",
       "      <td>10</td>\n",
       "      <td>2</td>\n",
       "      <td>2</td>\n",
       "      <td>-1</td>\n",
       "      <td>6</td>\n",
       "      <td>-1</td>\n",
       "      <td>8</td>\n",
       "      <td>0</td>\n",
       "      <td>1</td>\n",
       "      <td>0</td>\n",
       "      <td>100</td>\n",
       "    </tr>\n",
       "    <tr>\n",
       "      <th>1</th>\n",
       "      <td>5</td>\n",
       "      <td>37</td>\n",
       "      <td>-1</td>\n",
       "      <td>3</td>\n",
       "      <td>2</td>\n",
       "      <td>4</td>\n",
       "      <td>13</td>\n",
       "      <td>1</td>\n",
       "      <td>5</td>\n",
       "      <td>1</td>\n",
       "      <td>5</td>\n",
       "      <td>3</td>\n",
       "      <td>4</td>\n",
       "      <td>1</td>\n",
       "      <td>4</td>\n",
       "      <td>4</td>\n",
       "      <td>2</td>\n",
       "      <td>0</td>\n",
       "      <td>0</td>\n",
       "    </tr>\n",
       "    <tr>\n",
       "      <th>2</th>\n",
       "      <td>3</td>\n",
       "      <td>40</td>\n",
       "      <td>-1</td>\n",
       "      <td>3</td>\n",
       "      <td>2</td>\n",
       "      <td>1</td>\n",
       "      <td>17</td>\n",
       "      <td>1</td>\n",
       "      <td>16</td>\n",
       "      <td>1</td>\n",
       "      <td>1</td>\n",
       "      <td>1</td>\n",
       "      <td>2</td>\n",
       "      <td>-1</td>\n",
       "      <td>0</td>\n",
       "      <td>8</td>\n",
       "      <td>2</td>\n",
       "      <td>65</td>\n",
       "      <td>0</td>\n",
       "    </tr>\n",
       "    <tr>\n",
       "      <th>3</th>\n",
       "      <td>2</td>\n",
       "      <td>41</td>\n",
       "      <td>-1</td>\n",
       "      <td>2</td>\n",
       "      <td>2</td>\n",
       "      <td>4</td>\n",
       "      <td>7</td>\n",
       "      <td>2</td>\n",
       "      <td>20</td>\n",
       "      <td>2</td>\n",
       "      <td>1</td>\n",
       "      <td>1</td>\n",
       "      <td>3</td>\n",
       "      <td>-1</td>\n",
       "      <td>6</td>\n",
       "      <td>9</td>\n",
       "      <td>3</td>\n",
       "      <td>70</td>\n",
       "      <td>15</td>\n",
       "    </tr>\n",
       "    <tr>\n",
       "      <th>4</th>\n",
       "      <td>3</td>\n",
       "      <td>72</td>\n",
       "      <td>-1</td>\n",
       "      <td>4</td>\n",
       "      <td>2</td>\n",
       "      <td>5</td>\n",
       "      <td>22</td>\n",
       "      <td>1</td>\n",
       "      <td>10</td>\n",
       "      <td>1</td>\n",
       "      <td>1</td>\n",
       "      <td>2</td>\n",
       "      <td>5</td>\n",
       "      <td>-1</td>\n",
       "      <td>3</td>\n",
       "      <td>0</td>\n",
       "      <td>2</td>\n",
       "      <td>15</td>\n",
       "      <td>85</td>\n",
       "    </tr>\n",
       "  </tbody>\n",
       "</table>\n",
       "</div>"
      ],
      "text/plain": [
       "   V201228  V201507x  V202637  V202355  V201114  V201549x  V202468x  V201020  \\\n",
       "0        2        46       -1        4        1         3        21        1   \n",
       "1        5        37       -1        3        2         4        13        1   \n",
       "2        3        40       -1        3        2         1        17        1   \n",
       "3        2        41       -1        2        2         4         7        2   \n",
       "4        3        72       -1        4        2         5        22        1   \n",
       "\n",
       "   V201576  V201220  V201105  V202073  V201200  V201201  V202436  V202435  \\\n",
       "0       10        2        2       -1        6       -1        8        0   \n",
       "1        5        1        5        3        4        1        4        4   \n",
       "2       16        1        1        1        2       -1        0        8   \n",
       "3       20        2        1        1        3       -1        6        9   \n",
       "4       10        1        1        2        5       -1        3        0   \n",
       "\n",
       "   V201227  V201151  V201152  \n",
       "0        1        0      100  \n",
       "1        2        0        0  \n",
       "2        2       65        0  \n",
       "3        3       70       15  \n",
       "4        2       15       85  "
      ]
     },
     "execution_count": 20,
     "metadata": {},
     "output_type": "execute_result"
    }
   ],
   "source": [
    "for_learn.head()"
   ]
  },
  {
   "cell_type": "code",
   "execution_count": 21,
   "metadata": {},
   "outputs": [],
   "source": [
    "for_learn.to_csv('C:/Users/isabe/OneDrive/Documents/GitHub/Project-4/for_lear.csv')"
   ]
  }
 ],
 "metadata": {
  "kernelspec": {
   "display_name": "dev",
   "language": "python",
   "name": "python3"
  },
  "language_info": {
   "codemirror_mode": {
    "name": "ipython",
    "version": 3
   },
   "file_extension": ".py",
   "mimetype": "text/x-python",
   "name": "python",
   "nbconvert_exporter": "python",
   "pygments_lexer": "ipython3",
   "version": "3.10.13"
  }
 },
 "nbformat": 4,
 "nbformat_minor": 2
}
