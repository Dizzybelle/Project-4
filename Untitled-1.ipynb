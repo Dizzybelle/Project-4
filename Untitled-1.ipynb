{
 "cells": [
  {
   "cell_type": "code",
   "execution_count": 1,
   "metadata": {},
   "outputs": [],
   "source": [
    "import pandas as pd\n",
    "from pathlib import Path\n",
    "import tabula"
   ]
  },
  {
   "cell_type": "code",
   "execution_count": 2,
   "metadata": {},
   "outputs": [],
   "source": [
    "for_learn = Path('C:/Users/isabe/OneDrive/Documents/GitHub/Project-4/for_lear.csv')\n",
    "pdf_data = Path(\"C:/Users/isabe/OneDrive/Documents/GitHub/Project-4/resources/anes_timeseries_2020_userguidecodebook_20220210.pdf\")"
   ]
  },
  {
   "cell_type": "code",
   "execution_count": 15,
   "metadata": {},
   "outputs": [
    {
     "data": {
      "text/plain": [
       "[  Mail/Email Invitation  ✔ ✔.1 ✔.2 ✔.3\n",
       " 0          Web Screener  ✔   ✔   ✔   ✔\n",
       " 1   Pre-Election Survey  ✔   ✔   ✔   ✔\n",
       " 2  Post-Election Survey  ✔   ✔   ✔   ✔,\n",
       "                       Unnamed: 0 Unnamed: 1 Pre-Election Unnamed: 2  \\\n",
       " 0                            NaN          N          NaN        NaN   \n",
       " 1                            NaN        NaN          RR1        RR3   \n",
       " 2                            NaN        NaN          (%)        (%)   \n",
       " 3                            NaN        NaN          NaN        NaN   \n",
       " 4                            NaN        NaN          NaN        NaN   \n",
       " 5   Fresh Cross-Sectional Sample      5,441         36.7       40.9   \n",
       " 6                 Web-only (Web)      2,283         37.8       42.1   \n",
       " 7        Mixed Web (Web + Phone)      2,407         39.7       44.2   \n",
       " 8  Mixed Video (Video+Web+Phone)        751         27.6       31.0   \n",
       " \n",
       "   Post-Election  \n",
       " 0           NaN  \n",
       " 1       Re-Int.  \n",
       " 2           NaN  \n",
       " 3             N  \n",
       " 4           (%)  \n",
       " 5    4,783 87.9  \n",
       " 6    2,012 88.1  \n",
       " 7    2,136 88.7  \n",
       " 8      635 84.6  ,\n",
       "   For weight use variance unit/PSU/cluster and use variance stratum\n",
       " 0   V200010a                      V200010c                 V200010d\n",
       " 1   V200010b                      V200010c                 V200010d\n",
       " 2   V200011a                      V200011c                 V200011d\n",
       " 3   V200011b                      V200011c                 V200011d\n",
       " 4   V200012a                      V200012c                 V200012d\n",
       " 5   V200012b                      V200012c                 V200012d\n",
       " 6   V200013a                      V200013c                 V200013d\n",
       " 7   V200013b                      V200013c                 V200013d\n",
       " 8   V200014a                      V200014c                 V200014d\n",
       " 9   V200014b                      V200014c                 V200014d]"
      ]
     },
     "execution_count": 15,
     "metadata": {},
     "output_type": "execute_result"
    }
   ],
   "source": [
    "df = tabula.read_pdf(pdf_data, pages='all', stream=True)\n",
    "len(df)\n",
    "df"
   ]
  }
 ],
 "metadata": {
  "kernelspec": {
   "display_name": "dev",
   "language": "python",
   "name": "python3"
  },
  "language_info": {
   "codemirror_mode": {
    "name": "ipython",
    "version": 3
   },
   "file_extension": ".py",
   "mimetype": "text/x-python",
   "name": "python",
   "nbconvert_exporter": "python",
   "pygments_lexer": "ipython3",
   "version": "3.10.13"
  }
 },
 "nbformat": 4,
 "nbformat_minor": 2
}
